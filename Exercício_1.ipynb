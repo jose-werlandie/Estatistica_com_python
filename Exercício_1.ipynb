{
 "cells": [
  {
   "cell_type": "code",
   "execution_count": 1,
   "metadata": {},
   "outputs": [],
   "source": [
    "import pandas as pd\n",
    "\n",
    "import numpy as np\n",
    "\n",
    "import matplotlib.pyplot as plt\n",
    "\n",
    "%matplotlib inline"
   ]
  },
  {
   "cell_type": "code",
   "execution_count": 2,
   "metadata": {},
   "outputs": [],
   "source": [
    "# criando os dados em base da tabela 2.2\n",
    "data = {'Nome':['João da Silva', 'Pedro Fernandes', 'Maria Freitas', 'Paula Gonçalves', \n",
    "                'Ana Freitas', 'Luiz Costa', 'André Souza', 'Patrícia Silva', 'Regina Lima', \n",
    "                'Alfredo Souza', 'Margarete Cunha', 'Pedro Barbosa', 'Ricardo Alves', \n",
    "                'Márcio Rezende', 'Ana Carolina Chaves'],\n",
    "        'Idade':[36, 51,26,25,29,53,42,38,35,45,26,37,24,31,29],\n",
    "        'Salário':[6300,5700,4500,3800,3200,7300,7100,5600,6400,7000,3700,6500,4000,5100,4500]}\n",
    "\n",
    "# cria-se um DataFrame (apenas para manipulação)\n",
    "df = pd.DataFrame(data)"
   ]
  },
  {
   "cell_type": "code",
   "execution_count": 3,
   "metadata": {},
   "outputs": [
    {
     "data": {
      "text/html": [
       "<div>\n",
       "<style scoped>\n",
       "    .dataframe tbody tr th:only-of-type {\n",
       "        vertical-align: middle;\n",
       "    }\n",
       "\n",
       "    .dataframe tbody tr th {\n",
       "        vertical-align: top;\n",
       "    }\n",
       "\n",
       "    .dataframe thead th {\n",
       "        text-align: right;\n",
       "    }\n",
       "</style>\n",
       "<table border=\"1\" class=\"dataframe\">\n",
       "  <thead>\n",
       "    <tr style=\"text-align: right;\">\n",
       "      <th></th>\n",
       "      <th>Nome</th>\n",
       "      <th>Idade</th>\n",
       "      <th>Salário</th>\n",
       "    </tr>\n",
       "  </thead>\n",
       "  <tbody>\n",
       "    <tr>\n",
       "      <td>0</td>\n",
       "      <td>João da Silva</td>\n",
       "      <td>36</td>\n",
       "      <td>6300</td>\n",
       "    </tr>\n",
       "    <tr>\n",
       "      <td>1</td>\n",
       "      <td>Pedro Fernandes</td>\n",
       "      <td>51</td>\n",
       "      <td>5700</td>\n",
       "    </tr>\n",
       "    <tr>\n",
       "      <td>2</td>\n",
       "      <td>Maria Freitas</td>\n",
       "      <td>26</td>\n",
       "      <td>4500</td>\n",
       "    </tr>\n",
       "    <tr>\n",
       "      <td>3</td>\n",
       "      <td>Paula Gonçalves</td>\n",
       "      <td>25</td>\n",
       "      <td>3800</td>\n",
       "    </tr>\n",
       "    <tr>\n",
       "      <td>4</td>\n",
       "      <td>Ana Freitas</td>\n",
       "      <td>29</td>\n",
       "      <td>3200</td>\n",
       "    </tr>\n",
       "    <tr>\n",
       "      <td>5</td>\n",
       "      <td>Luiz Costa</td>\n",
       "      <td>53</td>\n",
       "      <td>7300</td>\n",
       "    </tr>\n",
       "    <tr>\n",
       "      <td>6</td>\n",
       "      <td>André Souza</td>\n",
       "      <td>42</td>\n",
       "      <td>7100</td>\n",
       "    </tr>\n",
       "    <tr>\n",
       "      <td>7</td>\n",
       "      <td>Patrícia Silva</td>\n",
       "      <td>38</td>\n",
       "      <td>5600</td>\n",
       "    </tr>\n",
       "    <tr>\n",
       "      <td>8</td>\n",
       "      <td>Regina Lima</td>\n",
       "      <td>35</td>\n",
       "      <td>6400</td>\n",
       "    </tr>\n",
       "    <tr>\n",
       "      <td>9</td>\n",
       "      <td>Alfredo Souza</td>\n",
       "      <td>45</td>\n",
       "      <td>7000</td>\n",
       "    </tr>\n",
       "    <tr>\n",
       "      <td>10</td>\n",
       "      <td>Margarete Cunha</td>\n",
       "      <td>26</td>\n",
       "      <td>3700</td>\n",
       "    </tr>\n",
       "    <tr>\n",
       "      <td>11</td>\n",
       "      <td>Pedro Barbosa</td>\n",
       "      <td>37</td>\n",
       "      <td>6500</td>\n",
       "    </tr>\n",
       "    <tr>\n",
       "      <td>12</td>\n",
       "      <td>Ricardo Alves</td>\n",
       "      <td>24</td>\n",
       "      <td>4000</td>\n",
       "    </tr>\n",
       "    <tr>\n",
       "      <td>13</td>\n",
       "      <td>Márcio Rezende</td>\n",
       "      <td>31</td>\n",
       "      <td>5100</td>\n",
       "    </tr>\n",
       "    <tr>\n",
       "      <td>14</td>\n",
       "      <td>Ana Carolina Chaves</td>\n",
       "      <td>29</td>\n",
       "      <td>4500</td>\n",
       "    </tr>\n",
       "  </tbody>\n",
       "</table>\n",
       "</div>"
      ],
      "text/plain": [
       "                   Nome  Idade  Salário\n",
       "0         João da Silva     36     6300\n",
       "1       Pedro Fernandes     51     5700\n",
       "2         Maria Freitas     26     4500\n",
       "3       Paula Gonçalves     25     3800\n",
       "4           Ana Freitas     29     3200\n",
       "5            Luiz Costa     53     7300\n",
       "6           André Souza     42     7100\n",
       "7        Patrícia Silva     38     5600\n",
       "8           Regina Lima     35     6400\n",
       "9         Alfredo Souza     45     7000\n",
       "10      Margarete Cunha     26     3700\n",
       "11        Pedro Barbosa     37     6500\n",
       "12        Ricardo Alves     24     4000\n",
       "13       Márcio Rezende     31     5100\n",
       "14  Ana Carolina Chaves     29     4500"
      ]
     },
     "execution_count": 3,
     "metadata": {},
     "output_type": "execute_result"
    }
   ],
   "source": [
    "df"
   ]
  },
  {
   "cell_type": "markdown",
   "metadata": {},
   "source": [
    "<h1>Atividade 3.1</h1>\n",
    "<p>&emsp;&emsp;Calcule a média, a moda e a mediana para esses dados, especificando\n",
    "as respectivas unidades."
   ]
  },
  {
   "cell_type": "code",
   "execution_count": 4,
   "metadata": {},
   "outputs": [
    {
     "data": {
      "text/plain": [
       "Idade        35.133333\n",
       "Salário    5380.000000\n",
       "dtype: float64"
      ]
     },
     "execution_count": 4,
     "metadata": {},
     "output_type": "execute_result"
    }
   ],
   "source": [
    "#média\n",
    "df.mean()"
   ]
  },
  {
   "cell_type": "code",
   "execution_count": 6,
   "metadata": {},
   "outputs": [
    {
     "data": {
      "text/plain": [
       "Idade        35.0\n",
       "Salário    5600.0\n",
       "dtype: float64"
      ]
     },
     "execution_count": 6,
     "metadata": {},
     "output_type": "execute_result"
    }
   ],
   "source": [
    "#médiana\n",
    "df.median()"
   ]
  },
  {
   "cell_type": "code",
   "execution_count": 8,
   "metadata": {},
   "outputs": [
    {
     "data": {
      "text/plain": [
       "0    4500\n",
       "dtype: int64"
      ]
     },
     "execution_count": 8,
     "metadata": {},
     "output_type": "execute_result"
    }
   ],
   "source": [
    "#moda\n",
    "df['Salário'].mode()"
   ]
  },
  {
   "cell_type": "markdown",
   "metadata": {},
   "source": [
    "<h1>Atividade 3.2</h1>\n",
    "<p>&emsp;&emsp;Calcule a nota m´edia, a nota modal e a nota mediana para os dados da tabela 3.1."
   ]
  },
  {
   "cell_type": "code",
   "execution_count": 11,
   "metadata": {},
   "outputs": [],
   "source": [
    "tabela3_1=[2.9, 3.7, 3.8, 4.7, 4.9, 5.2, 5.6, 5.8, 6.0, 6.2,\n",
    "           6.3, 6.3, 6.3, 6.5, 6.5, 6.6, 6.8, 6.8, 6.9, 6.9,\n",
    "           7.0, 7.0, 7.1, 7.3, 7.3, 7.4, 7.4, 7.5, 7.5, 7.6,\n",
    "           7.6, 7.7, 7.7, 7.9, 8.1, 8.1, 8.2, 8.2, 8.3, 8.3,\n",
    "           8.4, 8.5, 8.7, 8.7, 8.8, 8.9, 9.0, 9.1, 9.4, 9.7,]"
   ]
  },
  {
   "cell_type": "code",
   "execution_count": 23,
   "metadata": {},
   "outputs": [],
   "source": [
    "tb3 = pd.DataFrame()\n",
    "tb3['notas'] = tabela3_1"
   ]
  },
  {
   "cell_type": "code",
   "execution_count": 24,
   "metadata": {},
   "outputs": [
    {
     "data": {
      "text/plain": [
       "notas    7.35\n",
       "dtype: float64"
      ]
     },
     "execution_count": 24,
     "metadata": {},
     "output_type": "execute_result"
    }
   ],
   "source": [
    "#médiana\n",
    "tb3.median()"
   ]
  },
  {
   "cell_type": "code",
   "execution_count": 25,
   "metadata": {},
   "outputs": [
    {
     "data": {
      "text/plain": [
       "notas    7.142\n",
       "dtype: float64"
      ]
     },
     "execution_count": 25,
     "metadata": {},
     "output_type": "execute_result"
    }
   ],
   "source": [
    "#media\n",
    "tb3.mean()"
   ]
  },
  {
   "cell_type": "code",
   "execution_count": 27,
   "metadata": {},
   "outputs": [
    {
     "data": {
      "text/plain": [
       "0    6.3\n",
       "dtype: float64"
      ]
     },
     "execution_count": 27,
     "metadata": {},
     "output_type": "execute_result"
    }
   ],
   "source": [
    "#moda\n",
    "tb3['notas'].mode()"
   ]
  },
  {
   "cell_type": "markdown",
   "metadata": {},
   "source": [
    "<h1>Atividade 3.4</h1>\n",
    "<p>&emsp;&emsp;Segundo o critério de avaliação adotado pelo Departamento de Estatistica,cada aluno sera submetido a 2 provas, a primeira tendo peso 2\n",
    "e a segunda tendo peso 3. Para ser aprovado sem ter que fazer prova final,\n",
    "a méedia nas 2 provas tem que ser, no mınimo, 6. Se um aluno tirar 5,5 na\n",
    "primeira prova, quanto devera tirar na segunda prova para nao ter que fazer\n",
    "prova final? E se as provas tivessem o mesmo peso?"
   ]
  },
  {
   "cell_type": "markdown",
   "metadata": {},
   "source": [
    "\n",
    "<p>&emsp;&emsp;<n style=\"color: Grey\">Mp = (5,5·3 + x·2 / 3 + 2)>=(6)</n>\n",
    "<p>&emsp;&emsp;<n style=\"color: Grey\">6,75.</n>\n",
    "\n",
    "<p>&emsp;&emsp;<n style=\"color: Grey\">Mp = (5,5·2 + x·2 / 2 + 2) >=(6)</n>\n",
    "<p>&emsp;&emsp;<n style=\"color: Grey\">6,5.</n>"
   ]
  },
  {
   "cell_type": "markdown",
   "metadata": {},
   "source": [
    "<h1>Atividade 3.5</h1>\n",
    "<p>&emsp;&emsp;A relacao entre as escalas Celsius e Fahrenheit e a seguinte:\n",
    "<p>&emsp;&emsp;&emsp;<n style=\"color: Grey\">C = 5/9(F − 32)</n>\n",
    "<p>&emsp;&emsp;Se a temperatura media em determinada localidade e de 45◦F, qual e a\n",
    "temperatura media em graus Celsius?\n",
    "<p>&emsp;&emsp;&emsp;&emsp;<n>7,22<n>"
   ]
  },
  {
   "cell_type": "code",
   "execution_count": null,
   "metadata": {},
   "outputs": [],
   "source": []
  }
 ],
 "metadata": {
  "kernelspec": {
   "display_name": "Python 3",
   "language": "python",
   "name": "python3"
  },
  "language_info": {
   "codemirror_mode": {
    "name": "ipython",
    "version": 3
   },
   "file_extension": ".py",
   "mimetype": "text/x-python",
   "name": "python",
   "nbconvert_exporter": "python",
   "pygments_lexer": "ipython3",
   "version": "3.7.3"
  }
 },
 "nbformat": 4,
 "nbformat_minor": 2
}
