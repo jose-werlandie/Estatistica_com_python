{
 "cells": [
  {
   "cell_type": "code",
   "execution_count": 1,
   "metadata": {},
   "outputs": [],
   "source": [
    "\n",
    "import pandas as pd\n",
    "import numpy as np\n",
    "import matplotlib.pyplot as plt\n",
    "%matplotlib inline"
   ]
  },
  {
   "cell_type": "markdown",
   "metadata": {},
   "source": [
    "<hr>\n",
    "<h3>Exercicio 1</h3>\n",
    "<p>Os dados a seguir representam o n´umero de ap´olices de seguro que um\n",
    "corretor conseguiu vender em cada um de seus 20 primeiros dias em\n",
    "um emprego novo: 2, 4, 6, 3, 2, 1, 4, 3, 5, 2, 1, 1, 4, 0, 2, 2, 5, 2,\n",
    "2, 1. Analise a assimetria da distribui¸c˜ao, utilizando os coeficientes de\n",
    "Pearson e de Bowley.</p>"
   ]
  },
  {
   "cell_type": "code",
   "execution_count": 9,
   "metadata": {},
   "outputs": [
    {
     "name": "stdout",
     "output_type": "stream",
     "text": [
      "Bowley: 0.78\n",
      "Person: 0.37\n"
     ]
    }
   ],
   "source": [
    "data = [2, 4, 6, 3, 2, 1, 4, 3, 5, 2, 1, 1, 4, 0, 2, 2, 5, 2, 2, 1]\n",
    "df = pd.DataFrame(data, columns=['apolices'])\n",
    "\n",
    "def Person(media, moda, dp):\n",
    "    return (media - moda) / dp\n",
    "\n",
    "def Bowley(q1, md, q3):\n",
    "    return ((q3-md) - (md-q1)) / (q3 - q1)\n",
    "\n",
    "q1, md, q3 = df['apolices'].quantile([0.25, 0.50, 0.75])\n",
    "\n",
    "print(\"Bowley: {:.2f}\".format( Bowley(q1, md, q3) ))\n",
    "print(\"Person: {:.2f}\".format( Person(df['apolices'].mean(), df['apolices'].mode(), df['apolices'].std())[0] ))"
   ]
  },
  {
   "cell_type": "markdown",
   "metadata": {},
   "source": [
    "<hr>\n",
    "<h3>Exercicio 2</h3>\n",
    "<p>O professor Celso tem duas op¸c˜oes de caminho para se dirigir da sua\n",
    "casa at´e seu local de trabalho. Tentando definir qual o melhor caminho,\n",
    "ele anota o tempo de viagem em diferentes dias, obtendo os seguintes\n",
    "tempos (em minutos):</p>\n",
    "\n",
    "<p style=\"padding-top: 20px\"><b>Caminho 1:</b> 1 12 11 10 10 8 12 15 7 20 12</p>\n",
    "<p style=\"padding-bottom: 20px\"><b>Caminho 2:</b> 2 12 15 13 13 14 13 12 14 13 15</p>\n",
    "\n",
    "<p>Fa¸ca uma an´alise comparativa desses dados para ajudar o professor\n",
    "Celso a escolher um caminho.</p>"
   ]
  },
  {
   "cell_type": "code",
   "execution_count": 15,
   "metadata": {},
   "outputs": [
    {
     "name": "stdout",
     "output_type": "stream",
     "text": [
      "Caminho2 é mais rápido\n"
     ]
    }
   ],
   "source": [
    "df = pd.DataFrame()\n",
    "df['caminho1'] = [1, 12, 11, 10, 10, 8, 12, 15, 7, 20, 12]\n",
    "df['caminho2'] = [2, 12, 15, 13, 13, 14, 13, 12, 14, 13, 15]\n",
    "\n",
    "print (\"Caminho1 é mais rapido\" if df['caminho1'].mean() >  df['caminho2'].mean() else \"Caminho2 é mais rápido\")"
   ]
  },
  {
   "cell_type": "markdown",
   "metadata": {},
   "source": [
    "<h3>Exercicio 3</h3>\n",
    "<p>Em sua pol´ıtica de fideliza¸c˜ao de clientes, determinado supermercado\n",
    "tem uma promo¸c˜ao de dar descontos especiais diferenciados no mˆes do\n",
    "anivers´ario do cliente. O desconto b´asico ´e de 5%, mas clientes especiais\n",
    "– aqueles com pontua¸c˜ao alta – podem receber prˆemios adicionais, que\n",
    "variam a cada mˆes e de filial para filial. A seguir vocˆe tem os pontos\n",
    "dos clientes aniversariantes de determinado mˆes em uma das filiais do\n",
    "supermercado.</p>\n",
    "\n",
    "<p style=\"padding-top: 20px; font-weight: bold\">77, 69, 72, 73, 71, 75, 75, 74, 71, 72, 74, 73, 75, 71, 74</p>\n",
    "<p style=\"padding-bottom: 20px; font-weight: bold\">73, 78, 77, 74, 75, 69, 76, 76, 80, 74, 85, 74, 73, 72, 74</p>\n",
    "\n",
    "<ul>\n",
    "    <li>Construa o gr´afico ramo-e-folhas e comente suas principais caracter´ısticas</li>\n",
    "    <li>Calcule a mediana e o intervalo interquartil IQ.</li>\n",
    "    <li>Construa o boxplot e comente suas principais caracter´ısticas.</li>\n",
    "    <li>Essa filial d´a uma garrafa de champagne para seus clientes especiais, segundo a seguinte regra: a cada mˆes, os clientes com pontua¸c˜ao acima do terceiro quartil por 1,5 vezes o intervalo interquartil ser˜ao premiados. Algum cliente ganhar´a a garrafa de champagne nesse mˆes?</li>\n",
    "</ul>"
   ]
  },
  {
   "cell_type": "code",
   "execution_count": 30,
   "metadata": {},
   "outputs": [],
   "source": [
    "# PRIMEIRO PONTO\n",
    "\n",
    "# a função a seguir, imprime um diagrama de ramos e folhas, com base de um dicionário\n",
    "# onde o Ramo são as chaves do dicionário;\n",
    "# onde as Folhas serão os valores do dicionário;\n",
    "def imprimeDiagramaDeRamosEFolhas(d1):\n",
    "    folha = list(d1.values())\n",
    "    ramo = list(d1.keys())\n",
    "    \n",
    "    print('|', ' ' * 4, 'Ramo', ' ' * 4, '|', ' ' * 15, 'Folha', ' ' * 15)\n",
    "    print('|', '- ' * 2, '- - ', '- ' * 2, '|', ' -' * 8, '- - -', '- ' * 7)\n",
    "    for i in range(len(ramo)):\n",
    "        print('|', ' ' * 3, ramo[i], ' ' * 3, ' | ', end=\"\")\n",
    "        print(sorted(folha[i]))\n",
    "\n"
   ]
  },
  {
   "cell_type": "code",
   "execution_count": 27,
   "metadata": {},
   "outputs": [
    {
     "data": {
      "text/plain": [
       "-2.75"
      ]
     },
     "execution_count": 27,
     "metadata": {},
     "output_type": "execute_result"
    }
   ],
   "source": [
    "# SEGUNDO PONTO\n",
    "\n",
    "data = [77, 69, 72, 73, 71, 75, 75, 74, 71, 72, 74, 73, 75, 71, 74,\n",
    "        73, 78, 77, 74, 75, 69, 76, 76, 80, 74, 85, 74, 73, 72, 74]\n",
    "\n",
    "df = pd.DataFrame(data, columns=['pontos'])\n",
    "\n",
    "# SENDO Q1, Q2, Q3 O INTERVALOR INTERQUARTIL É DADO POR: IIQ = Q3 - Q1\n",
    "def IIQ(q1, q3):\n",
    "    return q1 - q3\n",
    "\n",
    "q1, md, q3 = df['pontos'].quantile([0.25, 0.50, 0.75])\n",
    "\n",
    "IIQ(q1, q3)"
   ]
  },
  {
   "cell_type": "code",
   "execution_count": 33,
   "metadata": {},
   "outputs": [
    {
     "data": {
      "text/plain": [
       "<matplotlib.axes._subplots.AxesSubplot at 0x7fee3059d278>"
      ]
     },
     "execution_count": 33,
     "metadata": {},
     "output_type": "execute_result"
    },
    {
     "data": {
      "image/png": "[encoded data removed]",
      "text/plain": [
       "<Figure size 432x288 with 1 Axes>"
      ]
     },
     "metadata": {
      "needs_background": "light"
     },
     "output_type": "display_data"
    }
   ],
   "source": [
    "# TERCEIRO PONTO\n",
    "\n",
    "df['pontos'].plot.box()"
   ]
  },
  {
   "cell_type": "code",
   "execution_count": 38,
   "metadata": {},
   "outputs": [
    {
     "data": {
      "text/html": [
       "<div>\n",
       "<style scoped>\n",
       "    .dataframe tbody tr th:only-of-type {\n",
       "        vertical-align: middle;\n",
       "    }\n",
       "\n",
       "    .dataframe tbody tr th {\n",
       "        vertical-align: top;\n",
       "    }\n",
       "\n",
       "    .dataframe thead th {\n",
       "        text-align: right;\n",
       "    }\n",
       "</style>\n",
       "<table border=\"1\" class=\"dataframe\">\n",
       "  <thead>\n",
       "    <tr style=\"text-align: right;\">\n",
       "      <th></th>\n",
       "      <th>pontos</th>\n",
       "    </tr>\n",
       "  </thead>\n",
       "  <tbody>\n",
       "    <tr>\n",
       "      <th>23</th>\n",
       "      <td>80</td>\n",
       "    </tr>\n",
       "    <tr>\n",
       "      <th>25</th>\n",
       "      <td>85</td>\n",
       "    </tr>\n",
       "  </tbody>\n",
       "</table>\n",
       "</div>"
      ],
      "text/plain": [
       "    pontos\n",
       "23      80\n",
       "25      85"
      ]
     },
     "execution_count": 38,
     "metadata": {},
     "output_type": "execute_result"
    }
   ],
   "source": [
    "# QUARTO PONTO\n",
    "\n",
    "# SENDO Q1, Q2, Q3 O INTERVALOR INTERQUARTIL É DADO POR: IIQ = Q3 - Q1\n",
    "def IIQ(q1, q3):\n",
    "    return q1 - q3\n",
    "\n",
    "q1, md, q3 = df['pontos'].quantile([0.25, 0.50, 0.75])\n",
    "\n",
    "iiq = IIQ(q1, q3)\n",
    "\n",
    "intervalo = q3 + 1.5 * iiq\n",
    "df[ df['pontos'] > q3 + abs(1.5*iiq)]"
   ]
  },
  {
   "cell_type": "code",
   "execution_count": null,
   "metadata": {},
   "outputs": [],
   "source": []
  }
 ],
 "metadata": {
  "kernelspec": {
   "display_name": "Python 3",
   "language": "python",
   "name": "python3"
  },
  "language_info": {
   "codemirror_mode": {
    "name": "ipython",
    "version": 3
   },
   "file_extension": ".py",
   "mimetype": "text/x-python",
   "name": "python",
   "nbconvert_exporter": "python",
   "pygments_lexer": "ipython3",
   "version": "3.7.3"
  }
 },
 "nbformat": 4,
 "nbformat_minor": 2
}
