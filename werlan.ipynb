{
 "cells": [
  {
   "cell_type": "markdown",
   "metadata": {},
   "source": [
    "Listas para agrupar poucos itens, onde é interessante ter\n",
    "mobilidade(poder adicionar/remover itens facilmente).\n",
    "a ordem dos elementos importa, tem sua posição ligada ao index.\n",
    "\n",
    "Dicionarios para guardar MUITA coisa, onde o principal é velocidade.\n",
    "a ordem dos elementos em um diconario é dispresivel, cada elemento é ligado a uma chave, que por sua vez também pode ser uma lista.\n",
    "\n"
   ]
  },
  {
   "cell_type": "code",
   "execution_count": 14,
   "metadata": {},
   "outputs": [
    {
     "name": "stdout",
     "output_type": "stream",
     "text": [
      "F H 5\n",
      "M M 8\n",
      "F P 8\n",
      "M H 6\n",
      "M C 5\n",
      "M H 6\n",
      "F M 8\n",
      "F P 4\n",
      "F H 2\n",
      "M C 6\n",
      "F P 8\n"
     ]
    }
   ],
   "source": [
    "sexo = ['F','M','F','M','M','M','F','F','F','M','F']\n",
    "predileta = ['H','M','P','H','C','H','M','P','H','C','P' ]\n",
    "nota = [5,8,8,6,5,6,8,4,2,6,8]\n",
    "for i in range(len(sexo)):\n",
    "    print(sexo[i],predileta[i],nota[i])"
   ]
  },
  {
   "cell_type": "code",
   "execution_count": 15,
   "metadata": {},
   "outputs": [
    {
     "data": {
      "text/plain": [
       "{'nota': [5, 8, 8, 6, 5, 6, 8, 4, 2, 6, 8],\n",
       " 'preferencia': ['H', 'M', 'P', 'H', 'C', 'H', 'M', 'P', 'H', 'C', 'P'],\n",
       " 'sexo': ['F', 'M', 'F', 'M', 'M', 'M', 'F', 'F', 'F', 'M', 'F']}"
      ]
     },
     "execution_count": 15,
     "metadata": {},
     "output_type": "execute_result"
    }
   ],
   "source": [
    "tabela = dict()\n",
    "tabela = {'sexo': sexo, 'preferencia': predileta, 'nota': nota}\n",
    "tabela"
   ]
  },
  {
   "cell_type": "code",
   "execution_count": 29,
   "metadata": {},
   "outputs": [
    {
     "data": {
      "text/plain": [
       "{'C': 2, 'H': 4, 'M': 2, 'P': 3}"
      ]
     },
     "execution_count": 29,
     "metadata": {},
     "output_type": "execute_result"
    }
   ],
   "source": [
    "def raking(s):\n",
    "    d = dict()\n",
    "    for c in s:\n",
    "        if c not in d:\n",
    "            d[c] = 1\n",
    "        else:\n",
    "            d[c] += 1\n",
    "    return d\n",
    "h = tabela['preferencia']\n",
    "j = raking(h)\n",
    "j\n"
   ]
  },
  {
   "cell_type": "code",
   "execution_count": 1,
   "metadata": {},
   "outputs": [
    {
     "data": {
      "text/plain": [
       "([['F', 'H', 8],\n",
       "  ['M', 'M', 10],\n",
       "  ['F', 'P', 10],\n",
       "  ['F', 'H', 9],\n",
       "  ['M', 'C', 8],\n",
       "  ['M', 'H', 9],\n",
       "  ['F', 'M', 10],\n",
       "  ['F', 'P', 7],\n",
       "  ['F', 'H', 5],\n",
       "  ['M', 'C', 9],\n",
       "  ['F', 'P', 10]],\n",
       " {'alunoA': ['F', 'H', 8],\n",
       "  'alunoB': ['M', 'M', 10],\n",
       "  'alunoC': ['F', 'P', 10],\n",
       "  'alunoD': ['F', 'H', 9],\n",
       "  'alunoE': ['M', 'C', 8],\n",
       "  'alunoF': ['M', 'H', 9],\n",
       "  'alunoG': ['F', 'M', 10],\n",
       "  'alunoH': ['F', 'P', 7],\n",
       "  'alunoI': ['F', 'H', 5],\n",
       "  'alunoJ': ['M', 'C', 9],\n",
       "  'alunoK': ['F', 'P', 10]})"
      ]
     },
     "execution_count": 1,
     "metadata": {},
     "output_type": "execute_result"
    }
   ],
   "source": [
    "tabelaLista = [ \n",
    "    ['F', 'H', 5], \n",
    "    ['M', 'M', 8], \n",
    "    ['F', 'P', 8], \n",
    "    ['F', 'H', 6], \n",
    "    ['M', 'C', 5], \n",
    "    ['M', 'H', 6], \n",
    "    ['F', 'M', 8], \n",
    "    ['F', 'P', 4], \n",
    "    ['F', 'H', 2], \n",
    "    ['M', 'C', 6], \n",
    "    ['F', 'P', 8]\n",
    "]\n",
    "\n",
    "tabelaDicionario = {\n",
    "    'alunoA': ['F', 'H', 5], \n",
    "    'alunoB': ['M', 'M', 8],\n",
    "    'alunoC': ['F', 'P', 8],\n",
    "    'alunoD': ['F', 'H', 6],\n",
    "    'alunoE': ['M', 'C', 5],\n",
    "    'alunoF': ['M', 'H', 6],\n",
    "    'alunoG': ['F', 'M', 8],\n",
    "    'alunoH': ['F', 'P', 4],\n",
    "    'alunoI': ['F', 'H', 2],\n",
    "    'alunoJ': ['M', 'C', 6],\n",
    "    'alunoK': ['F', 'P', 8]\n",
    "}\n",
    "\n",
    "def maisTresPontos(tabela):\n",
    "    if ( type(tabela) == list ):\n",
    "        for linha in tabela:\n",
    "            linha[2] += 3\n",
    "            if ( linha[2] > 10 ):\n",
    "                linha[2] = 10\n",
    "                \n",
    "    elif ( type(tabela) == dict ):\n",
    "        for chave in tabela:\n",
    "            tabela[chave][2] += 3\n",
    "            if( tabela[chave][2] > 10 ):\n",
    "                tabela[chave][2] = 10\n",
    "    \n",
    "    else:\n",
    "        print('deu ruim!')\n",
    "\n",
    "maisTresPontos(tabelaLista)\n",
    "maisTresPontos(tabelaDicionario)\n",
    "\n",
    "tabelaLista, tabelaDicionario"
   ]
  },
  {
   "cell_type": "code",
   "execution_count": null,
   "metadata": {},
   "outputs": [],
   "source": []
  }
 ],
 "metadata": {
  "kernelspec": {
   "display_name": "Python 3",
   "language": "python",
   "name": "python3"
  },
  "language_info": {
   "codemirror_mode": {
    "name": "ipython",
    "version": 3
   },
   "file_extension": ".py",
   "mimetype": "text/x-python",
   "name": "python",
   "nbconvert_exporter": "python",
   "pygments_lexer": "ipython3",
   "version": "3.7.3"
  }
 },
 "nbformat": 4,
 "nbformat_minor": 2
}
