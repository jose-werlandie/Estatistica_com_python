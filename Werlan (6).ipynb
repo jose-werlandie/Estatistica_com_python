{
 "cells": [
  {
   "cell_type": "markdown",
   "metadata": {},
   "source": [
    "revisão series e data frame.\n",
    "passo 1.\n"
   ]
  },
  {
   "cell_type": "code",
   "execution_count": 1,
   "metadata": {
    "collapsed": true
   },
   "outputs": [],
   "source": [
    "import pandas as pd\n",
    "import numpy as np"
   ]
  },
  {
   "cell_type": "markdown",
   "metadata": {},
   "source": [
    "passo 2"
   ]
  },
  {
   "cell_type": "code",
   "execution_count": 17,
   "metadata": {
    "collapsed": true
   },
   "outputs": [],
   "source": [
    "Evolucao_Dict = { 'Evolução': ['Ivysaur','Charmeleon','Wartortle','Metapod']}\n",
    "Hp_Dict = { 'HP' : ['45','39','44','45' ]}\n",
    "Nome_Dict = {'Nome' :['Bulbassaur','Charmander','Watortle','Metapod']}\n",
    "Pokedex_Dict = {'Pokedex':['sim','não','sim','não']}\n",
    "Tipo_Dict = {'Tipo':['Planta','fogo','água','inseto']}\n"
   ]
  },
  {
   "cell_type": "markdown",
   "metadata": {},
   "source": [
    "passo 3"
   ]
  },
  {
   "cell_type": "code",
   "execution_count": 44,
   "metadata": {
    "collapsed": true
   },
   "outputs": [],
   "source": [
    "Evolucao_serie = pd.Series(['Ivysaur','Charmeleon','Wartortle','Metapod'])\n",
    "Hp_serie = pd.Series(['45','39','44','45' ])\n",
    "Nome_serie = pd.Series(['Bulbassaur','Charmander','Watortle','Metapod'])\n",
    "Pokedex_serie = pd.Series(['sim','não','sim','não'])\n",
    "Tipo_serie = pd.Series(['Planta','fogo','água','inseto'])\n"
   ]
  },
  {
   "cell_type": "markdown",
   "metadata": {},
   "source": [
    "## passo 4"
   ]
  },
  {
   "cell_type": "code",
   "execution_count": 48,
   "metadata": {},
   "outputs": [],
   "source": [
    "Dados = dict()\n",
    "Dados.update(Evolucao_Dict)\n",
    "Dados.update(Hp_Dict)\n",
    "Dados.update(Nome_Dict)\n",
    "Dados.update(Pokedex_Dict)\n",
    "Dados.update(Tipo_Dict)\n",
    "\n",
    "Dados_frame = pd.DataFrame(Dados)\n",
    "Dados_frame\n",
    "\n",
    "Dados_serie = pd.Series()\n",
    "Dados_serie = pd.concat ([Evolucao_serie, Hp_serie, Nome_serie, Pokedex_serie, Tipo_serie], axis = 1)\n",
    "\n",
    "Dados_serie_frame = pd.DataFrame(Dados_serie)\n",
    "Dados_serie_frame.columns = ['Nome','Evolução','Tipo','HP','Pokedex']\n"
   ]
  },
  {
   "cell_type": "markdown",
   "metadata": {},
   "source": [
    "## passo 5"
   ]
  },
  {
   "cell_type": "code",
   "execution_count": 23,
   "metadata": {},
   "outputs": [
    {
     "data": {
      "text/html": [
       "<div>\n",
       "<table border=\"1\" class=\"dataframe\">\n",
       "  <thead>\n",
       "    <tr style=\"text-align: right;\">\n",
       "      <th></th>\n",
       "      <th>Nome</th>\n",
       "      <th>Evolução</th>\n",
       "      <th>Tipo</th>\n",
       "      <th>HP</th>\n",
       "      <th>Pokedex</th>\n",
       "    </tr>\n",
       "  </thead>\n",
       "  <tbody>\n",
       "    <tr>\n",
       "      <th>0</th>\n",
       "      <td>Bulbassaur</td>\n",
       "      <td>Ivysaur</td>\n",
       "      <td>Planta</td>\n",
       "      <td>45</td>\n",
       "      <td>sim</td>\n",
       "    </tr>\n",
       "    <tr>\n",
       "      <th>1</th>\n",
       "      <td>Charmander</td>\n",
       "      <td>Charmeleon</td>\n",
       "      <td>fogo</td>\n",
       "      <td>39</td>\n",
       "      <td>não</td>\n",
       "    </tr>\n",
       "    <tr>\n",
       "      <th>2</th>\n",
       "      <td>Watortle</td>\n",
       "      <td>Wartortle</td>\n",
       "      <td>água</td>\n",
       "      <td>44</td>\n",
       "      <td>sim</td>\n",
       "    </tr>\n",
       "    <tr>\n",
       "      <th>3</th>\n",
       "      <td>Metapod</td>\n",
       "      <td>Metapod</td>\n",
       "      <td>inseto</td>\n",
       "      <td>45</td>\n",
       "      <td>não</td>\n",
       "    </tr>\n",
       "  </tbody>\n",
       "</table>\n",
       "</div>"
      ],
      "text/plain": [
       "         Nome    Evolução    Tipo  HP Pokedex\n",
       "0  Bulbassaur     Ivysaur  Planta  45     sim\n",
       "1  Charmander  Charmeleon    fogo  39     não\n",
       "2    Watortle   Wartortle    água  44     sim\n",
       "3     Metapod     Metapod  inseto  45     não"
      ]
     },
     "execution_count": 23,
     "metadata": {},
     "output_type": "execute_result"
    }
   ],
   "source": [
    "Dados_frame = pd.DataFrame(Dados)\n",
    "Dados_frame\n",
    "\n",
    "pd.DataFrame(Dados_frame, columns = ['Nome','Evolução','Tipo','HP','Pokedex'])"
   ]
  },
  {
   "cell_type": "markdown",
   "metadata": {},
   "source": [
    "## passo 6"
   ]
  },
  {
   "cell_type": "code",
   "execution_count": 26,
   "metadata": {},
   "outputs": [
    {
     "data": {
      "text/html": [
       "<div>\n",
       "<table border=\"1\" class=\"dataframe\">\n",
       "  <thead>\n",
       "    <tr style=\"text-align: right;\">\n",
       "      <th></th>\n",
       "      <th>Evolução</th>\n",
       "      <th>HP</th>\n",
       "      <th>Pokedex</th>\n",
       "      <th>Tipo</th>\n",
       "    </tr>\n",
       "    <tr>\n",
       "      <th>Nome</th>\n",
       "      <th></th>\n",
       "      <th></th>\n",
       "      <th></th>\n",
       "      <th></th>\n",
       "    </tr>\n",
       "  </thead>\n",
       "  <tbody>\n",
       "    <tr>\n",
       "      <th>Bulbassaur</th>\n",
       "      <td>Ivysaur</td>\n",
       "      <td>45</td>\n",
       "      <td>sim</td>\n",
       "      <td>Planta</td>\n",
       "    </tr>\n",
       "    <tr>\n",
       "      <th>Charmander</th>\n",
       "      <td>Charmeleon</td>\n",
       "      <td>39</td>\n",
       "      <td>não</td>\n",
       "      <td>fogo</td>\n",
       "    </tr>\n",
       "    <tr>\n",
       "      <th>Watortle</th>\n",
       "      <td>Wartortle</td>\n",
       "      <td>44</td>\n",
       "      <td>sim</td>\n",
       "      <td>água</td>\n",
       "    </tr>\n",
       "    <tr>\n",
       "      <th>Metapod</th>\n",
       "      <td>Metapod</td>\n",
       "      <td>45</td>\n",
       "      <td>não</td>\n",
       "      <td>inseto</td>\n",
       "    </tr>\n",
       "  </tbody>\n",
       "</table>\n",
       "</div>"
      ],
      "text/plain": [
       "              Evolução  HP Pokedex    Tipo\n",
       "Nome                                      \n",
       "Bulbassaur     Ivysaur  45     sim  Planta\n",
       "Charmander  Charmeleon  39     não    fogo\n",
       "Watortle     Wartortle  44     sim    água\n",
       "Metapod        Metapod  45     não  inseto"
      ]
     },
     "execution_count": 26,
     "metadata": {},
     "output_type": "execute_result"
    }
   ],
   "source": [
    "Dados_frame.index =Dados_frame.Nome\n",
    "Dados_frame.drop(['Nome'], axis=1)"
   ]
  },
  {
   "cell_type": "markdown",
   "metadata": {},
   "source": [
    "## passo 7"
   ]
  },
  {
   "cell_type": "code",
   "execution_count": 51,
   "metadata": {},
   "outputs": [
    {
     "data": {
      "text/html": [
       "<div>\n",
       "<table border=\"1\" class=\"dataframe\">\n",
       "  <thead>\n",
       "    <tr style=\"text-align: right;\">\n",
       "      <th></th>\n",
       "      <th>Evolução</th>\n",
       "      <th>HP</th>\n",
       "      <th>Nome</th>\n",
       "      <th>Pokedex</th>\n",
       "      <th>Tipo</th>\n",
       "      <th>Notas</th>\n",
       "    </tr>\n",
       "  </thead>\n",
       "  <tbody>\n",
       "    <tr>\n",
       "      <th>0</th>\n",
       "      <td>Ivysaur</td>\n",
       "      <td>45</td>\n",
       "      <td>Bulbassaur</td>\n",
       "      <td>sim</td>\n",
       "      <td>Planta</td>\n",
       "      <td>7</td>\n",
       "    </tr>\n",
       "    <tr>\n",
       "      <th>1</th>\n",
       "      <td>Charmeleon</td>\n",
       "      <td>39</td>\n",
       "      <td>Charmander</td>\n",
       "      <td>não</td>\n",
       "      <td>fogo</td>\n",
       "      <td>5</td>\n",
       "    </tr>\n",
       "    <tr>\n",
       "      <th>2</th>\n",
       "      <td>Wartortle</td>\n",
       "      <td>44</td>\n",
       "      <td>Watortle</td>\n",
       "      <td>sim</td>\n",
       "      <td>água</td>\n",
       "      <td>9</td>\n",
       "    </tr>\n",
       "    <tr>\n",
       "      <th>3</th>\n",
       "      <td>Metapod</td>\n",
       "      <td>45</td>\n",
       "      <td>Metapod</td>\n",
       "      <td>não</td>\n",
       "      <td>inseto</td>\n",
       "      <td>2</td>\n",
       "    </tr>\n",
       "  </tbody>\n",
       "</table>\n",
       "</div>"
      ],
      "text/plain": [
       "     Evolução  HP        Nome Pokedex    Tipo  Notas\n",
       "0     Ivysaur  45  Bulbassaur     sim  Planta      7\n",
       "1  Charmeleon  39  Charmander     não    fogo      5\n",
       "2   Wartortle  44    Watortle     sim    água      9\n",
       "3     Metapod  45     Metapod     não  inseto      2"
      ]
     },
     "execution_count": 51,
     "metadata": {},
     "output_type": "execute_result"
    }
   ],
   "source": [
    "Dados_frame = pd.DataFrame(Dados)\n",
    "Dados_frame['Notas']=[7,5,9,2]\n",
    "Dados_frame"
   ]
  },
  {
   "cell_type": "markdown",
   "metadata": {},
   "source": [
    "## passo 8"
   ]
  },
  {
   "cell_type": "code",
   "execution_count": 57,
   "metadata": {},
   "outputs": [
    {
     "data": {
      "text/plain": [
       "Evolução    object\n",
       "HP          object\n",
       "Nome        object\n",
       "Pokedex     object\n",
       "Tipo        object\n",
       "Notas        int64\n",
       "dtype: object"
      ]
     },
     "execution_count": 57,
     "metadata": {},
     "output_type": "execute_result"
    }
   ],
   "source": [
    "Dados_frame.dtypes"
   ]
  },
  {
   "cell_type": "code",
   "execution_count": null,
   "metadata": {
    "collapsed": true
   },
   "outputs": [],
   "source": []
  }
 ],
 "metadata": {
  "kernelspec": {
   "display_name": "Python 3",
   "language": "python",
   "name": "python3"
  },
  "language_info": {
   "codemirror_mode": {
    "name": "ipython",
    "version": 3
   },
   "file_extension": ".py",
   "mimetype": "text/x-python",
   "name": "python",
   "nbconvert_exporter": "python",
   "pygments_lexer": "ipython3",
   "version": "3.7.3"
  }
 },
 "nbformat": 4,
 "nbformat_minor": 2
}
